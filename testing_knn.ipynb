{
 "cells": [
  {
   "cell_type": "code",
   "execution_count": 25,
   "metadata": {},
   "outputs": [
    {
     "name": "stdout",
     "output_type": "stream",
     "text": [
      "[114] virginica\n"
     ]
    }
   ],
   "source": [
    "import pandas as pd\n",
    "import numpy as np\n",
    "import math\n",
    "import operator\n",
    "x = pd.read_csv(\"iris.csv\")\n",
    "#print(x.head()) \n",
    "def ED(x1, x2, length): #it is used for calculating euclidean distance\n",
    "    distance = 0\n",
    "    for x in range(length):\n",
    "        distance += np.square(x1[x] - x2[x])\n",
    "    return np.sqrt(distance)\n",
    "def knn(trainingSet, testInstance, k): #here we are defining our model\n",
    " \n",
    "    distances = {}\n",
    "    sort = {}\n",
    " \n",
    "    length = testInstance.shape[1]\n",
    "    \n",
    "    for x in range(len(trainingSet)):\n",
    "        dist = ED(testInstance, trainingSet.iloc[x], length)\n",
    "        distances[x] = dist[0]\n",
    "    sortdist = sorted(distances.items(), key=operator.itemgetter(1))\n",
    "    neighbors = []\n",
    "    for x in range(k):\n",
    "        neighbors.append(sortdist[x][0])\n",
    "    Votes = {} #to get most frequent class of rows\n",
    "    for x in range(len(neighbors)):\n",
    "        response = trainingSet.iloc[neighbors[x]][-1]\n",
    "        if response in Votes:\n",
    "            Votes[response] += 1\n",
    "        else:\n",
    "            Votes[response] = 1\n",
    "    sortvotes = sorted(Votes.items(), key=operator.itemgetter(1), reverse=True)\n",
    "    return(sortvotes[0][0], neighbors)\n",
    "testSet = [[6.1,2.6,5.4,3.8]]\n",
    "test = pd.DataFrame(testSet)\n",
    "k1 =1\n",
    "result,neigh = knn(x, test, k1)\n",
    "print(neigh,result)"
   ]
  },
  {
   "cell_type": "code",
   "execution_count": null,
   "metadata": {},
   "outputs": [],
   "source": [
    "\n",
    "\n"
   ]
  }
 ],
 "metadata": {
  "kernelspec": {
   "display_name": "Python 3",
   "language": "python",
   "name": "python3"
  },
  "language_info": {
   "codemirror_mode": {
    "name": "ipython",
    "version": 3
   },
   "file_extension": ".py",
   "mimetype": "text/x-python",
   "name": "python",
   "nbconvert_exporter": "python",
   "pygments_lexer": "ipython3",
   "version": "3.7.4"
  }
 },
 "nbformat": 4,
 "nbformat_minor": 2
}
